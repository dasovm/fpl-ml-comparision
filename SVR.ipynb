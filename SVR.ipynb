{
 "cells": [
  {
   "cell_type": "markdown",
   "metadata": {},
   "source": [
    "# SVR Model (Regression)"
   ]
  },
  {
   "cell_type": "code",
   "execution_count": null,
   "metadata": {},
   "outputs": [],
   "source": [
    "import non_time_series_utils as utils\n",
    "\n",
    "import numpy as np\n",
    "\n",
    "from sklearn.svm import SVR\n",
    "from sklearn.preprocessing import StandardScaler\n",
    "from sklearn.metrics import mean_squared_error"
   ]
  },
  {
   "cell_type": "code",
   "execution_count": null,
   "metadata": {},
   "outputs": [],
   "source": [
    "# Import data instead of generation\n",
    "df = utils.generate_df()"
   ]
  },
  {
   "cell_type": "code",
   "execution_count": null,
   "metadata": {},
   "outputs": [],
   "source": [
    "train_df, test_df = utils.split_df_to_train_test(df, split_rate=0.6)\n",
    "test_df, val_df = utils.split_df_to_train_test(test_df, split_rate=0.5)"
   ]
  },
  {
   "cell_type": "code",
   "execution_count": null,
   "metadata": {},
   "outputs": [],
   "source": [
    "train_X, train_y = utils.split_df_to_X_y(train_df)\n",
    "val_X, val_y = utils.split_df_to_X_y(val_df)"
   ]
  },
  {
   "cell_type": "code",
   "execution_count": null,
   "metadata": {},
   "outputs": [],
   "source": [
    "scaler = StandardScaler().fit(train_X)"
   ]
  },
  {
   "cell_type": "code",
   "execution_count": null,
   "metadata": {},
   "outputs": [],
   "source": [
    "best_params = {\n",
    "    'C': 0,\n",
    "    'eps': 0,\n",
    "    'val_loss': 10000,\n",
    "    'model': None\n",
    "}\n",
    "\n",
    "C_list = np.arange(1, 5)\n",
    "eps_list = np.arange(0.2, 4.2, 0.2)\n",
    "\n",
    "i = 0\n",
    "\n",
    "for C in C_list:\n",
    "    for eps in eps_list:\n",
    "        i += 1\n",
    "        print('Iteration {} / {}'.format(i, len(C_list) * len(eps_list)))\n",
    "        model = SVR(C=C, epsilon=eps, kernel='linear')\n",
    "        model.fit(scaler.transform(train_X), train_y)\n",
    "\n",
    "        loss = mean_squared_error(model.predict(scaler.transform(val_X)), val_y)\n",
    "        if loss < best_params['val_loss']:\n",
    "            best_params = {\n",
    "                'C': C,\n",
    "                'eps': eps,\n",
    "                'val_loss': loss,\n",
    "                'model': model\n",
    "            }\n",
    "print('Best params: C={}, eps={:.1f} (loss={:.2f})'.format(best_params['C'], best_params['eps'], best_params['val_loss']))"
   ]
  },
  {
   "cell_type": "code",
   "execution_count": null,
   "metadata": {},
   "outputs": [],
   "source": [
    "test_X, test_y = utils.split_df_to_X_y(test_df)"
   ]
  },
  {
   "cell_type": "code",
   "execution_count": null,
   "metadata": {},
   "outputs": [],
   "source": [
    "model = best_params['model']\n",
    "mean_squared_error(model.predict(scaler.transform(test_X)), test_y)"
   ]
  }
 ],
 "metadata": {
  "kernelspec": {
   "display_name": "Python 3",
   "language": "python",
   "name": "python3"
  },
  "language_info": {
   "codemirror_mode": {
    "name": "ipython",
    "version": 3
   },
   "file_extension": ".py",
   "mimetype": "text/x-python",
   "name": "python",
   "nbconvert_exporter": "python",
   "pygments_lexer": "ipython3",
   "version": "3.7.7"
  }
 },
 "nbformat": 4,
 "nbformat_minor": 2
}
