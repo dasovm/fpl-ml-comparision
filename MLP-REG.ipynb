{
 "cells": [
  {
   "cell_type": "markdown",
   "metadata": {},
   "source": [
    "# MLP Model (Regression)"
   ]
  },
  {
   "cell_type": "code",
   "execution_count": null,
   "metadata": {},
   "outputs": [],
   "source": [
    "import non_time_series_utils as utils\n",
    "from pathlib import Path\n",
    "\n",
    "from sklearn.preprocessing import StandardScaler\n",
    "from tensorflow.keras.models import Sequential, load_model\n",
    "from tensorflow.keras.layers import Dense, Dropout\n",
    "from tensorflow.keras.callbacks import ModelCheckpoint, EarlyStopping, ReduceLROnPlateau\n",
    "from tensorflow.keras import regularizers\n",
    "from matplotlib import pyplot as plt\n",
    "%matplotlib inline"
   ]
  },
  {
   "cell_type": "code",
   "execution_count": null,
   "metadata": {},
   "outputs": [],
   "source": [
    "# Import data instead of generation\n",
    "df = utils.generate_df()"
   ]
  },
  {
   "cell_type": "code",
   "execution_count": null,
   "metadata": {},
   "outputs": [],
   "source": [
    "train_df, test_df = utils.split_df_to_train_test(df, split_rate=0.6)\n",
    "test_df, val_df = utils.split_df_to_train_test(test_df, split_rate=0.5)"
   ]
  },
  {
   "cell_type": "code",
   "execution_count": null,
   "metadata": {},
   "outputs": [],
   "source": [
    "train_X, train_y = utils.split_df_to_X_y(train_df)\n",
    "val_X, val_y = utils.split_df_to_X_y(val_df)"
   ]
  },
  {
   "cell_type": "code",
   "execution_count": null,
   "metadata": {},
   "outputs": [],
   "source": [
    "scaler = StandardScaler().fit(train_X)"
   ]
  },
  {
   "cell_type": "code",
   "execution_count": null,
   "metadata": {},
   "outputs": [],
   "source": [
    "def build_model(input_shape, n_hidden_layers, n_neurons):\n",
    "    model = Sequential()\n",
    "    model.add(Dense(n_neurons, activation='relu', input_shape=input_shape, kernel_regularizer=regularizers.l2(0.001), bias_regularizer=regularizers.l2(0.001)))\n",
    "\n",
    "    for i in range(0, n_hidden_layers):\n",
    "        model.add(Dropout(0.5))\n",
    "        model.add(Dense(n_neurons, activation='relu', kernel_regularizer=regularizers.l2(0.001), bias_regularizer=regularizers.l2(0.001)))\n",
    "\n",
    "    model.add(Dense(1))\n",
    "    model.compile(optimizer='adam', loss='mse')\n",
    "    return model"
   ]
  },
  {
   "cell_type": "code",
   "execution_count": null,
   "metadata": {},
   "outputs": [],
   "source": [
    "n_hidden_layers_list = [1, 2, 3, 4, 5, 6]\n",
    "n_neurons_list = [64, 128, 256, 512]\n",
    "\n",
    "best_config = {\n",
    "    'n_hidden_layers': -1,\n",
    "    'n_neurons': -1,\n",
    "    'loss': 100000,\n",
    "    'model_history': None\n",
    "}\n",
    "\n",
    "Path(\"mlp-reg-models\").mkdir(parents=True, exist_ok=True)\n",
    "\n",
    "for n_hidden_layers in n_hidden_layers_list:\n",
    "    for n_neurons in n_neurons_list:\n",
    "        print('Training {} hidden layers with {} neurons'.format(n_hidden_layers, n_neurons))\n",
    "\n",
    "        es = EarlyStopping(monitor='val_loss', patience=50)\n",
    "        reduce_lr = ReduceLROnPlateau(monitor='val_loss', factor=0.2, patience=10, min_lr=0.0001)\n",
    "        mc = ModelCheckpoint('./mlp-reg-models/model-cp.h5', verbose=0, monitor='val_loss', save_best_only=True, mode=\"min\")\n",
    "\n",
    "        model = build_model((train_X.shape[1],), n_hidden_layers, n_neurons)\n",
    "        history = model.fit(scaler.transform(train_X), train_y, validation_data=(scaler.transform(val_X), val_y), epochs=1000, verbose=0, callbacks=[es, reduce_lr, mc])\n",
    "\n",
    "        model = load_model('./mlp-reg-models/model-cp.h5')\n",
    "        loss = model.evaluate(scaler.transform(val_X), val_y, verbose=0)\n",
    "        print('Training done. Val loss: {:.2f}'.format(loss[0]))\n",
    "\n",
    "        if best_config['loss'] >= loss[0]:\n",
    "            print('Best setup so far!')\n",
    "            best_config['n_hidden_layers'] = n_hidden_layers\n",
    "            best_config['n_neurons'] = n_neurons\n",
    "            best_config['loss'] = loss[0]\n",
    "            best_config['model_history'] = history\n",
    "            model.save('./mlp-reg-models/model.h5')"
   ]
  },
  {
   "cell_type": "code",
   "execution_count": null,
   "metadata": {},
   "outputs": [],
   "source": [
    "history = best_config['model_history']\n",
    "plt.plot(history.history['loss'])\n",
    "plt.plot(history.history['val_loss'])\n",
    "plt.title('Model loss')\n",
    "plt.ylabel('loss')\n",
    "plt.xlabel('epoch')\n",
    "plt.legend(['train', 'val'], loc='upper right')\n",
    "plt.show()"
   ]
  },
  {
   "cell_type": "code",
   "execution_count": null,
   "metadata": {},
   "outputs": [],
   "source": [
    "test_X, test_y = utils.split_df_to_X_y(test_df)"
   ]
  },
  {
   "cell_type": "code",
   "execution_count": null,
   "metadata": {},
   "outputs": [],
   "source": [
    "model = load_model('./mlp-reg-models/model.h5')\n",
    "model.evaluate(scaler.transform(test_X), test_y)"
   ]
  }
 ],
 "metadata": {
  "kernelspec": {
   "display_name": "Python 3",
   "language": "python",
   "name": "python3"
  },
  "language_info": {
   "codemirror_mode": {
    "name": "ipython",
    "version": 3
   },
   "file_extension": ".py",
   "mimetype": "text/x-python",
   "name": "python",
   "nbconvert_exporter": "python",
   "pygments_lexer": "ipython3",
   "version": "3.7.7"
  }
 },
 "nbformat": 4,
 "nbformat_minor": 4
}
