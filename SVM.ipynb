{
 "cells": [
  {
   "cell_type": "markdown",
   "metadata": {},
   "source": [
    "# SVM Model (Classification)"
   ]
  },
  {
   "cell_type": "code",
   "execution_count": null,
   "metadata": {},
   "outputs": [],
   "source": [
    "import non_time_series_utils as utils\n",
    "\n",
    "import numpy as np\n",
    "\n",
    "from sklearn.svm import SVC\n",
    "from sklearn.preprocessing import StandardScaler\n",
    "from sklearn.utils import class_weight\n",
    "from sklearn.metrics import log_loss"
   ]
  },
  {
   "cell_type": "code",
   "execution_count": null,
   "metadata": {},
   "outputs": [],
   "source": [
    "# Import data instead of generation\n",
    "df = utils.generate_df()\n",
    "df['total_points'] = utils.get_classes_from_y(df['total_points'].values)"
   ]
  },
  {
   "cell_type": "code",
   "execution_count": null,
   "metadata": {},
   "outputs": [],
   "source": [
    "train_df, test_df = utils.split_df_to_train_test(df, split_rate=0.6)\n",
    "test_df, val_df = utils.split_df_to_train_test(test_df, split_rate=0.5)"
   ]
  },
  {
   "cell_type": "code",
   "execution_count": null,
   "metadata": {},
   "outputs": [],
   "source": [
    "train_X, train_y = utils.split_df_to_X_y(train_df)\n",
    "val_X, val_y = utils.split_df_to_X_y(val_df)"
   ]
  },
  {
   "cell_type": "code",
   "execution_count": null,
   "metadata": {},
   "outputs": [],
   "source": [
    "scaler = StandardScaler().fit(train_X)"
   ]
  },
  {
   "cell_type": "code",
   "execution_count": null,
   "metadata": {},
   "outputs": [],
   "source": [
    "best_params = {\n",
    "    'C': 0,\n",
    "    'val_loss': 10000,\n",
    "    'model': None\n",
    "}\n",
    "\n",
    "C_list = np.arange(1, 5)\n",
    "\n",
    "i = 0\n",
    "\n",
    "for C in C_list:\n",
    "    i += 1\n",
    "    print('Iteration {} / {}'.format(i, len(C_list)))\n",
    "    \n",
    "    weights = class_weight.compute_class_weight('balanced', np.unique(train_y), train_y)\n",
    "\n",
    "    model = SVC(C=C, kernel='linear', probability=True, )\n",
    "    model.fit(scaler.transform(train_X), train_y)\n",
    "\n",
    "    loss = log_loss(model.predict(scaler.transform(val_X)), val_y)\n",
    "    if loss < best_params['val_loss']:\n",
    "        best_params = {\n",
    "            'C': C,\n",
    "            'val_loss': loss,\n",
    "            'model': model\n",
    "        }\n",
    "print('Best params: C={} (loss={:.2f})'.format(best_params['C'], best_params['val_loss']))"
   ]
  },
  {
   "cell_type": "code",
   "execution_count": null,
   "metadata": {},
   "outputs": [],
   "source": [
    "test_X, test_y = utils.split_df_to_X_y(test_df)"
   ]
  },
  {
   "cell_type": "code",
   "execution_count": null,
   "metadata": {},
   "outputs": [],
   "source": [
    "model = best_params['model']\n",
    "log_loss(model.predict(scaler.transform(test_X)), test_y)"
   ]
  }
 ],
 "metadata": {
  "kernelspec": {
   "display_name": "Python 3",
   "language": "python",
   "name": "python3"
  },
  "language_info": {
   "codemirror_mode": {
    "name": "ipython",
    "version": 3
   },
   "file_extension": ".py",
   "mimetype": "text/x-python",
   "name": "python",
   "nbconvert_exporter": "python",
   "pygments_lexer": "ipython3",
   "version": "3.7.7"
  }
 },
 "nbformat": 4,
 "nbformat_minor": 4
}
